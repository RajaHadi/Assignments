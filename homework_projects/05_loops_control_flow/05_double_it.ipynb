{
  "nbformat": 4,
  "nbformat_minor": 0,
  "metadata": {
    "colab": {
      "provenance": []
    },
    "kernelspec": {
      "name": "python3",
      "display_name": "Python 3"
    },
    "language_info": {
      "name": "python"
    }
  },
  "cells": [
    {
      "cell_type": "markdown",
      "source": [
        "# **Problem Statement**\n",
        "Write a program that asks a user to enter a number. Your program will then double that number and print out the result. It will repeat that process until the value is 100 or greater."
      ],
      "metadata": {
        "id": "lM2cCHIujnrN"
      }
    },
    {
      "cell_type": "markdown",
      "source": [
        "# ***Solution:***"
      ],
      "metadata": {
        "id": "N44p6v8djk0d"
      }
    },
    {
      "cell_type": "code",
      "execution_count": 2,
      "metadata": {
        "colab": {
          "base_uri": "https://localhost:8080/"
        },
        "id": "MDAPJJF-i0oS",
        "outputId": "c931d1ff-b085-4c39-af98-429342fb39c8"
      },
      "outputs": [
        {
          "output_type": "stream",
          "name": "stdout",
          "text": [
            "Enter a number. 2\n",
            "4\n",
            "8\n",
            "16\n",
            "32\n",
            "64\n",
            "128\n"
          ]
        }
      ],
      "source": [
        "def main():\n",
        "  curr_val:int=int(input(\"Enter a number. \"))\n",
        "  while curr_val < 100:\n",
        "    curr_val= curr_val*2\n",
        "    print(curr_val)\n",
        "\n",
        "if __name__ == '__main__':\n",
        "    main()"
      ]
    },
    {
      "cell_type": "code",
      "source": [],
      "metadata": {
        "id": "OseTF6txjUmr"
      },
      "execution_count": null,
      "outputs": []
    }
  ]
}