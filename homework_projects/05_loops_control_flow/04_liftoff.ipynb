{
  "nbformat": 4,
  "nbformat_minor": 0,
  "metadata": {
    "colab": {
      "provenance": []
    },
    "kernelspec": {
      "name": "python3",
      "display_name": "Python 3"
    },
    "language_info": {
      "name": "python"
    }
  },
  "cells": [
    {
      "cell_type": "markdown",
      "source": [
        "# **Problem Statement**\n",
        "Write a program that prints out the calls for a spaceship that is about to launch. Countdown from 10 to 1 and then output Liftoff"
      ],
      "metadata": {
        "id": "a1x5AjXCgld7"
      }
    },
    {
      "cell_type": "markdown",
      "source": [
        "# ***Solution:***"
      ],
      "metadata": {
        "id": "uiqaV-XWgWKF"
      }
    },
    {
      "cell_type": "code",
      "execution_count": 8,
      "metadata": {
        "colab": {
          "base_uri": "https://localhost:8080/"
        },
        "id": "ZVyD_riNfbCk",
        "outputId": "17eada5d-f6d1-4d90-9e71-d62db2f90ce8"
      },
      "outputs": [
        {
          "output_type": "stream",
          "name": "stdout",
          "text": [
            "10\n",
            "9\n",
            "8\n",
            "7\n",
            "6\n",
            "5\n",
            "4\n",
            "3\n",
            "2\n",
            "1\n",
            "0\n",
            "liftoff!. \n"
          ]
        }
      ],
      "source": [
        "def main():\n",
        "\n",
        "  Main_Val:int=10\n",
        "\n",
        "  while Main_Val !=-1:\n",
        "    print(Main_Val)\n",
        "    Main_Val -=  1\n",
        "\n",
        "\n",
        "  print(\"liftoff!. \")\n",
        "\n",
        "\n",
        "if __name__ == '__main__':\n",
        "    main()"
      ]
    },
    {
      "cell_type": "code",
      "source": [],
      "metadata": {
        "id": "-ivkMZ5ngJJS"
      },
      "execution_count": 2,
      "outputs": []
    }
  ]
}