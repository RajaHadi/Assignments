{
  "cells": [
    {
      "cell_type": "code",
      "execution_count": 6,
      "metadata": {
        "colab": {
          "base_uri": "https://localhost:8080/"
        },
        "id": "ydGH_BYaek8j",
        "outputId": "246fe58a-ed2c-413c-b6a4-07af829998b9"
      },
      "outputs": [
        {
          "output_type": "stream",
          "name": "stdout",
          "text": [
            "Welcome to Password generator\n",
            "Enter the amount of passwords you wanna generate1\n",
            "Enter the length of the passwords2\n",
            "Here are your Passwords\n",
            "B\n",
            "Bh\n"
          ]
        }
      ],
      "source": [
        "import random\n",
        "\n",
        "print(\"Welcome to Password generator\")\n",
        "char:str=\"abcdefghijklmnopqrstuvwxyzABCDEFGHIJKLMNOPQRSTUVWXYZ!@$%^&*(),.?0123456789\"\n",
        "num:int=int(input(\"Enter the amount of passwords you wanna generate\"))\n",
        "length:int=int(input(\"Enter the length of the passwords\"))\n",
        "print(\"Here are your Passwords\")\n",
        "for pas in range(num):\n",
        "  passwords= ''\n",
        "  for c in range(length):\n",
        "    passwords += random.choice(char)\n",
        "    print(passwords)\n",
        "\n",
        "\n",
        "\n",
        "\n",
        "\n"
      ]
    },
    {
      "cell_type": "code",
      "execution_count": null,
      "metadata": {
        "id": "X4ZGABWqgLVS"
      },
      "outputs": [],
      "source": []
    }
  ],
  "metadata": {
    "colab": {
      "provenance": []
    },
    "kernelspec": {
      "display_name": "Python 3",
      "name": "python3"
    },
    "language_info": {
      "name": "python"
    }
  },
  "nbformat": 4,
  "nbformat_minor": 0
}