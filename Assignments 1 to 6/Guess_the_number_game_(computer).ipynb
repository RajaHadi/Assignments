{
  "cells": [
    {
      "cell_type": "code",
      "execution_count": null,
      "metadata": {
        "id": "ydGH_BYaek8j"
      },
      "outputs": [],
      "source": [
        "import random\n",
        "def main(x):\n",
        "   random_num=random.randint(1,x)\n",
        "   Guessed=0\n",
        "   while Guessed != random_num:\n",
        "      User_guess=int(input(\"Guess a number: \"))\n",
        "      if User_guess > random_num:\n",
        "       print(\"Your guess is to High. \")\n",
        "      elif User_guess < random_num:\n",
        "       print(\"Your guess is to low. \")\n",
        "   print(f\"Congrats! You guessed right number: {x}\")\n",
        "\n",
        "main(10)\n",
        "\n"
      ]
    },
    {
      "cell_type": "code",
      "execution_count": null,
      "metadata": {
        "id": "X4ZGABWqgLVS"
      },
      "outputs": [],
      "source": []
    }
  ],
  "metadata": {
    "colab": {
      "provenance": []
    },
    "kernelspec": {
      "display_name": "Python 3",
      "name": "python3"
    },
    "language_info": {
      "name": "python"
    }
  },
  "nbformat": 4,
  "nbformat_minor": 0
}