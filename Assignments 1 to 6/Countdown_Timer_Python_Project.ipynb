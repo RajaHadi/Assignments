{
  "cells": [
    {
      "cell_type": "code",
      "execution_count": 3,
      "metadata": {
        "colab": {
          "base_uri": "https://localhost:8080/"
        },
        "id": "ydGH_BYaek8j",
        "outputId": "3d14c5dc-8178-4ea8-88ba-85e4be6c4407"
      },
      "outputs": [
        {
          "output_type": "stream",
          "name": "stdout",
          "text": [
            "ENter the time in seconds5\n",
            "Timer Comp;eted\n"
          ]
        }
      ],
      "source": [
        "from os import cpu_count\n",
        "import time\n",
        "\n",
        "def count(t):\n",
        "  while t:\n",
        "    mins,secs= divmod(t,60)\n",
        "    timer='{:02d}:{:02d}'.format(mins,secs)\n",
        "    print(timer,end=\"\\r\")\n",
        "    time.sleep(1)\n",
        "    t -= 1\n",
        "\n",
        "  print(\"Timer Comp;eted\")\n",
        "t =input(\"ENter the time in seconds\")\n",
        "count(int(t))\n",
        "\n",
        "\n",
        "\n"
      ]
    },
    {
      "cell_type": "code",
      "execution_count": null,
      "metadata": {
        "id": "X4ZGABWqgLVS"
      },
      "outputs": [],
      "source": []
    }
  ],
  "metadata": {
    "colab": {
      "provenance": []
    },
    "kernelspec": {
      "display_name": "Python 3",
      "name": "python3"
    },
    "language_info": {
      "name": "python"
    }
  },
  "nbformat": 4,
  "nbformat_minor": 0
}