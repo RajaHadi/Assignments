{
  "cells": [
    {
      "cell_type": "code",
      "execution_count": 9,
      "metadata": {
        "colab": {
          "base_uri": "https://localhost:8080/",
          "height": 53
        },
        "id": "ydGH_BYaek8j",
        "outputId": "a607b9c0-0edc-4cd0-bf05-1dac4c5cfdc2"
      },
      "outputs": [
        {
          "name": "stdout",
          "output_type": "stream",
          "text": [
            "Enter 'r' for rock, 'p' for paper, 's' for scissorp\n"
          ]
        },
        {
          "output_type": "execute_result",
          "data": {
            "text/plain": [
              "'You lost'"
            ],
            "application/vnd.google.colaboratory.intrinsic+json": {
              "type": "string"
            }
          },
          "metadata": {},
          "execution_count": 9
        }
      ],
      "source": [
        "import random\n",
        "\n",
        "def game():\n",
        "  User_inp:str=input(\"Enter 'r' for rock, 'p' for paper, 's' for scissor\")\n",
        "  computer=random.choice(['r','p','s'])\n",
        "\n",
        "  if User_inp == computer :\n",
        "    return 'tie'\n",
        "\n",
        "  if is_win(User_inp,computer):\n",
        "    print(\"You Won!\")\n",
        "\n",
        "  return(\"You lost\")\n",
        "\n",
        "\n",
        "def is_win(player,opponent):\n",
        "  if (player == 'r' and opponent == 's') or (player=='s' and opponent == 'p' ) or (player == 'p' and opponent == 'r'):\n",
        "    return True\n",
        "\n",
        "game()\n",
        "\n",
        "\n",
        "\n",
        "\n"
      ]
    },
    {
      "cell_type": "code",
      "execution_count": null,
      "metadata": {
        "id": "X4ZGABWqgLVS"
      },
      "outputs": [],
      "source": []
    }
  ],
  "metadata": {
    "colab": {
      "provenance": []
    },
    "kernelspec": {
      "display_name": "Python 3",
      "name": "python3"
    },
    "language_info": {
      "name": "python"
    }
  },
  "nbformat": 4,
  "nbformat_minor": 0
}