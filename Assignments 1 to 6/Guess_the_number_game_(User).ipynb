{
  "cells": [
    {
      "cell_type": "code",
      "execution_count": 5,
      "metadata": {
        "colab": {
          "base_uri": "https://localhost:8080/"
        },
        "id": "ydGH_BYaek8j",
        "outputId": "431557b3-33b7-4fc4-927f-b7e231c5cc4c"
      },
      "outputs": [
        {
          "output_type": "stream",
          "name": "stdout",
          "text": [
            "If 5 is too high (H), too low (L), or correct (C): l\n",
            "If 9 is too high (H), too low (L), or correct (C): h\n",
            "If 6 is too high (H), too low (L), or correct (C): l\n",
            "If 8 is too high (H), too low (L), or correct (C): c\n",
            "Congrats! The computer guessed your number 8 correctly.\n"
          ]
        }
      ],
      "source": [
        "import random\n",
        "\n",
        "def Com_Guess(x):\n",
        "    low = 1\n",
        "    high = x\n",
        "    feed_back = ''\n",
        "    while feed_back != 'c':\n",
        "        if low != high:\n",
        "            guess = random.randint(low, high)\n",
        "        else:\n",
        "            guess = low\n",
        "        feed_back = input(f\"If {guess} is too high (H), too low (L), or correct (C): \").lower()\n",
        "        if feed_back == 'h':\n",
        "            high = guess - 1\n",
        "        elif feed_back == 'l':\n",
        "            low = guess + 1\n",
        "    print(f\"Congrats! The computer guessed your number {guess} correctly.\")\n",
        "\n",
        "Com_Guess(10)\n",
        "\n"
      ]
    },
    {
      "cell_type": "code",
      "execution_count": null,
      "metadata": {
        "id": "X4ZGABWqgLVS"
      },
      "outputs": [],
      "source": []
    }
  ],
  "metadata": {
    "colab": {
      "provenance": []
    },
    "kernelspec": {
      "display_name": "Python 3",
      "name": "python3"
    },
    "language_info": {
      "name": "python"
    }
  },
  "nbformat": 4,
  "nbformat_minor": 0
}