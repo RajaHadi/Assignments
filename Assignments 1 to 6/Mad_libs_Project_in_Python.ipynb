{
  "nbformat": 4,
  "nbformat_minor": 0,
  "metadata": {
    "colab": {
      "provenance": []
    },
    "kernelspec": {
      "name": "python3",
      "display_name": "Python 3"
    },
    "language_info": {
      "name": "python"
    }
  },
  "cells": [
    {
      "cell_type": "code",
      "execution_count": 4,
      "metadata": {
        "colab": {
          "base_uri": "https://localhost:8080/"
        },
        "id": "ydGH_BYaek8j",
        "outputId": "d1667604-146a-4f4d-a52d-1487da3c9fcd"
      },
      "outputs": [
        {
          "output_type": "stream",
          "name": "stdout",
          "text": [
            "Enter Adjective: Weird\n",
            "Enter a verb: Code\n",
            "Enter again a verb: Code\n",
            "Enter name of an famouus person: Ameen Alam\n",
            "Computer programming is so Weird! I am always excited because I love to Code.\n",
            " Be Hydrated and Code like you are Ameen Alam\n"
          ]
        }
      ],
      "source": [
        "Adj:str=input(\"Enter Adjective: \")\n",
        "Verb1:str=input(\"Enter a verb: \")\n",
        "Verb2:str=input(\"Enter again a verb: \")\n",
        "F_Person:str=input(\"Enter name of an famouus person: \")\n",
        "madlib=f\"Computer programming is so {Adj}! I am always excited because I love to {Verb1}.\\n Be Hydrated and {Verb2} like you are {F_Person}\"\n",
        "print(madlib)"
      ]
    },
    {
      "cell_type": "code",
      "source": [],
      "metadata": {
        "id": "X4ZGABWqgLVS"
      },
      "execution_count": null,
      "outputs": []
    }
  ]
}