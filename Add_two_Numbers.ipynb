{
  "nbformat": 4,
  "nbformat_minor": 0,
  "metadata": {
    "colab": {
      "provenance": [],
      "authorship_tag": "ABX9TyP7QwhB1J0OLmOLwKjQqacO",
      "include_colab_link": true
    },
    "kernelspec": {
      "name": "python3",
      "display_name": "Python 3"
    },
    "language_info": {
      "name": "python"
    }
  },
  "cells": [
    {
      "cell_type": "markdown",
      "metadata": {
        "id": "view-in-github",
        "colab_type": "text"
      },
      "source": [
        "<a href=\"https://colab.research.google.com/github/RajaHadi/Assignments/blob/main/Add_two_Numbers.ipynb\" target=\"_parent\"><img src=\"https://colab.research.google.com/assets/colab-badge.svg\" alt=\"Open In Colab\"/></a>"
      ]
    },
    {
      "cell_type": "code",
      "execution_count": 1,
      "metadata": {
        "colab": {
          "base_uri": "https://localhost:8080/",
          "height": 0
        },
        "id": "vciEJcG26Obq",
        "outputId": "ca8c1c2c-2c1e-432a-f05d-bc36d2cc640e"
      },
      "outputs": [
        {
          "output_type": "stream",
          "name": "stdout",
          "text": [
            "Welcome To Program\n",
            "Enter first number5\n",
            "Enter your second number25\n",
            "The sum of your numbers is = 30\n"
          ]
        }
      ],
      "source": [
        "def Cal():\n",
        "  print(\"Welcome To Program\")\n",
        "  input1=input(\"Enter your first number\")\n",
        "  input1 = int(input1)\n",
        "  input2=input(\"Enter your second number\")\n",
        "  input2 = int(input2)\n",
        "  result= input1 + input2\n",
        "  print(f\"The sum of your numbers is = {result}\")\n",
        "\n",
        "Cal()"
      ]
    },
    {
      "cell_type": "code",
      "source": [],
      "metadata": {
        "id": "pyLBruiQ9Cu-"
      },
      "execution_count": null,
      "outputs": []
    }
  ]
}